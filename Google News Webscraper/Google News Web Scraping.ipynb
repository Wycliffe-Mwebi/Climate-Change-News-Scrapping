{
 "cells": [
  {
   "cell_type": "markdown",
   "id": "47c38a3d",
   "metadata": {},
   "source": [
    "# Google News Web Scraping \n",
    "### Extracting Google News results using Python and SerpApi web scraping library."
   ]
  },
  {
   "cell_type": "code",
   "execution_count": 9,
   "id": "bfc5bf51",
   "metadata": {},
   "outputs": [],
   "source": [
    "# Import libraries:\n",
    "import requests\n",
    "import json\n",
    "import re\n",
    "from parsel import Selector"
   ]
  },
  {
   "cell_type": "markdown",
   "id": "11131772",
   "metadata": {},
   "source": [
    "|LIBRARY\t|     PURPOSE                |\n",
    "|:----------|:---------------------------|\n",
    "|requests\t|-to make a request to the website.|\n",
    "|json\t    |-to convert extracted data to a JSON object.|\n",
    "|re\t        |-to extract parts of the data via regular expression.|\n",
    "|parsel\t    |-to parse data from HTML/XML documents. Similar to BeautifulSoup but supports XPath.                               .|"
   ]
  },
  {
   "cell_type": "code",
   "execution_count": 10,
   "id": "a083e136",
   "metadata": {},
   "outputs": [],
   "source": [
    "# Create request headers and URL parameters:\n",
    "headers = {\n",
    "    \"User-Agent\": \"Mozilla/5.0 (Windows NT 10.0; Win64; x64) AppleWebKit/537.36 (KHTML, like Gecko) Chrome/103.0.5060.114 Safari/537.36\"\n",
    "}\n",
    "\n",
    "params = {\n",
    "    \"q\": \"climate change\",  # search query\n",
    "    \"hl\": \"en\",              # language of the search\n",
    "    \"gl\": \"uk\",              # country of the search\n",
    "    \"num\": \"100\",            # number of search results per page\n",
    "    \"tbm\": \"nws\"             # news results\n",
    "}"
   ]
  },
  {
   "cell_type": "markdown",
   "id": "d5eebef8",
   "metadata": {},
   "source": [
    "|CODE\t     | EXPLANATION                          |\n",
    "|:-----------|:-------------------------------------|\n",
    "|params\t     |a prettier way of passing URL parameters to a request.|\n",
    "|user-agent\t |to act as a \"real\" user request from the browser by passing it to request headers. Default requests user-agent is a python-reqeusts so websites might understand that it's a bot or a script and block the request to the website. Check what's your user-agent.|"
   ]
  },
  {
   "cell_type": "markdown",
   "id": "fe588bed",
   "metadata": {},
   "source": [
    "Make a request, pass created request parameters and headers. Pass returned HTML to parsel:"
   ]
  },
  {
   "cell_type": "code",
   "execution_count": 11,
   "id": "84d5c906",
   "metadata": {},
   "outputs": [],
   "source": [
    "html = requests.get(\"https://www.google.com/search\", headers=headers, params=params, timeout=30)\n",
    "selector = Selector(text=html.text)"
   ]
  },
  {
   "cell_type": "markdown",
   "id": "0ba7f90a",
   "metadata": {},
   "source": [
    "|CODE\t      |EXPLANATION                             |\n",
    "|:------------|:---------------------------------------|\n",
    "|timeout=30\t  |to stop waiting for response after 30 seconds.|\n",
    "|Selector(text=html.text)| \twhere passed HTML from the response will be processed by parsel.|"
   ]
  },
  {
   "cell_type": "markdown",
   "id": "559e62a2",
   "metadata": {},
   "source": [
    "Create an empty list to store extracted news results:"
   ]
  },
  {
   "cell_type": "code",
   "execution_count": 12,
   "id": "3ef2fdf1",
   "metadata": {},
   "outputs": [],
   "source": [
    "news_results = []"
   ]
  },
  {
   "cell_type": "markdown",
   "id": "b30c1f5e",
   "metadata": {},
   "source": [
    "Create a variable that will hold store < script > tags from the page:"
   ]
  },
  {
   "cell_type": "code",
   "execution_count": 14,
   "id": "d2499d21",
   "metadata": {},
   "outputs": [],
   "source": [
    "all_script_tags = selector.css(\"script::text\").getall()"
   ]
  },
  {
   "cell_type": "markdown",
   "id": "1845b0d1",
   "metadata": {},
   "source": [
    "|CODE\t    |EXPLANATION                                                       |\n",
    "|:----------|:-----------------------------------------------------------------|\n",
    "|css()\t    |is a parsel method that extracts nodes based on a given CSS selector(s).|\n",
    "|::text\t    |is a parsel own pseudo-element support that extracts textual data, which will translate every CSS query to XPath. In this case ::text would become /text() if using XPath directly. |\n",
    "|getall()\t|returns a list of matched nodes.|"
   ]
  },
  {
   "cell_type": "markdown",
   "id": "0c3f278a",
   "metadata": {},
   "source": [
    "Iterate over news results and extract thumbnails data (skip to the next step if you don't want thumbnails):"
   ]
  },
  {
   "cell_type": "code",
   "execution_count": 15,
   "id": "fd5d9b57",
   "metadata": {},
   "outputs": [],
   "source": [
    "for result, thumbnail_id in zip(selector.css(\".xuvV6b\"), selector.css(\".FAkayc img::attr(id)\")):\n",
    "    thumbnails = re.findall(r\"s=\\'([^']+)\\'\\;var\\s?ii\\=\\['{_id}'\\];\".format(_id=thumbnail_id.get()), str(all_script_tags))\n",
    "\n",
    "    decoded_thumbnail = \"\".join([\n",
    "        bytes(bytes(img, \"ascii\").decode(\"unicode-escape\"), \"ascii\").decode(\"unicode-escape\") for img in thumbnails\n",
    "    ])"
   ]
  },
  {
   "cell_type": "markdown",
   "id": "ab049b96",
   "metadata": {},
   "source": [
    "|CODE\t        |EXPLANATION                      |\n",
    "|:--------------|:--------------------------------|\n",
    "|zip()\t        |iterate over several iterables in parallel. In this case zip is used to also extract thumbnails that are located in the < script > tags. |\n",
    "|::attr(id)\t    |parsel own pseudo-element support that will extract given attribute from an HTML node.|\n",
    "|re.findall()\t|match parts of the data from HTML using regular expression pattern. In this case, we want to match thumbnails. If you parse thumbnails directly from the HTML, you'll get a 1x1 image placeholder, not thumbnail. findall returns a list of matches. |\n",
    "|format(_id=thumbnail_id.get())|\tformat is a Python string format that insert passed values inside the string's placeholder, which is _id in this case: \\['{_id}'\\];|\n",
    "|str(all_script_tags)\t|used to type cast returned value to a string type.|\n",
    "|\"\".join()\t   |join all items into a single string. Since this example uses list comprehension, the returned output would be a list of each processed element: [thumbnail_1] [thumbnail_2] [thumbnail_3] or [] if empty. join will convert join list to str\n",
    "|bytes(img, \"ascii\").decode(\"unicode-escape\")|\tto decode parsed image data.|"
   ]
  },
  {
   "cell_type": "markdown",
   "id": "64778a9b",
   "metadata": {},
   "source": [
    "Append extracted results to a temporary list as a dict:"
   ]
  },
  {
   "cell_type": "code",
   "execution_count": 21,
   "id": "38df1598",
   "metadata": {},
   "outputs": [],
   "source": [
    "news_results.append(\n",
    "    {\n",
    "        \"title\": result.css(\".MBeuO::text\").get(),\n",
    "        \"link\": result.css(\"a.WlydOe::attr(href)\").get(),\n",
    "        \"source\": result.css(\".NUnG9d span::text\").get(),\n",
    "        \"snippet\": result.css(\".GI74Re::text\").get(),\n",
    "        \"date_published\": result.css(\".ZE0LJd span::text\").get(),\n",
    "        \"thumbnail\": None if decoded_thumbnail == \"\" else decoded_thumbnail\n",
    "    }\n",
    ")"
   ]
  },
  {
   "cell_type": "markdown",
   "id": "1ac405a1",
   "metadata": {},
   "source": [
    "Print extracted data:"
   ]
  },
  {
   "cell_type": "code",
   "execution_count": 27,
   "id": "cdfaa71e",
   "metadata": {},
   "outputs": [
    {
     "name": "stderr",
     "output_type": "stream",
     "text": [
      "IOPub data rate exceeded.\n",
      "The notebook server will temporarily stop sending output\n",
      "to the client in order to avoid crashing it.\n",
      "To change this limit, set the config variable\n",
      "`--NotebookApp.iopub_data_rate_limit`.\n",
      "\n",
      "Current values:\n",
      "NotebookApp.iopub_data_rate_limit=1000000.0 (bytes/sec)\n",
      "NotebookApp.rate_limit_window=3.0 (secs)\n",
      "\n"
     ]
    }
   ],
   "source": [
    "print(json.dumps(news_results, indent=2, ensure_ascii=False))"
   ]
  },
  {
   "cell_type": "markdown",
   "id": "d3f96f8c",
   "metadata": {},
   "source": [
    "#### Full Pagination Code\n",
    "The only difference is that we adding:\n",
    "\n",
    "- while loop to iterate over all pages.\n",
    "- if statement to check for the \"Next\" presense.\n",
    "- increments params[\"start\"] parameter by 10 to paginate to the next page."
   ]
  },
  {
   "cell_type": "code",
   "execution_count": 23,
   "id": "cc417b11",
   "metadata": {},
   "outputs": [
    {
     "name": "stdout",
     "output_type": "stream",
     "text": [
      "1\n",
      "2\n",
      "3\n",
      "4\n",
      "5\n",
      "6\n",
      "7\n",
      "8\n",
      "9\n",
      "10\n",
      "11\n",
      "12\n",
      "13\n",
      "14\n",
      "15\n"
     ]
    },
    {
     "name": "stderr",
     "output_type": "stream",
     "text": [
      "IOPub data rate exceeded.\n",
      "The notebook server will temporarily stop sending output\n",
      "to the client in order to avoid crashing it.\n",
      "To change this limit, set the config variable\n",
      "`--NotebookApp.iopub_data_rate_limit`.\n",
      "\n",
      "Current values:\n",
      "NotebookApp.iopub_data_rate_limit=1000000.0 (bytes/sec)\n",
      "NotebookApp.rate_limit_window=3.0 (secs)\n",
      "\n"
     ]
    }
   ],
   "source": [
    "import requests, json, re\n",
    "from parsel import Selector\n",
    "\n",
    "headers = {\n",
    "    \"User-Agent\": \"Mozilla/5.0 (Windows NT 10.0; Win64; x64) AppleWebKit/537.36 (KHTML, like Gecko) Chrome/103.0.5060.114 Safari/537.36\"\n",
    "}\n",
    "\n",
    "params = {\n",
    "    \"q\": \"gta san andreas\",  # search query\n",
    "    \"hl\": \"en\",              # language of the search\n",
    "    \"gl\": \"us\",              # country of the search\n",
    "    \"num\": \"100\",            # number of search results per page\n",
    "    \"tbm\": \"nws\",            # news results\n",
    "    \"start\": 0               # page nubmer\n",
    "}\n",
    "\n",
    "news_results = []\n",
    "page_num = 0\n",
    "\n",
    "while True:\n",
    "    page_num += 1\n",
    "    print(page_num)\n",
    "\n",
    "    html = requests.get(\"https://www.google.com/search\", headers=headers, params=params, timeout=30)\n",
    "    selector = Selector(text=html.text)\n",
    "\n",
    "    # extract thumbnails\n",
    "    all_script_tags = selector.css(\"script::text\").getall()\n",
    "\n",
    "    for result, thumbnail_id in zip(selector.css(\".xuvV6b\"), selector.css(\".FAkayc img::attr(id)\")):\n",
    "        thumbnails = re.findall(r\"s=\\'([^']+)\\'\\;var\\s?ii\\=\\['{_id}'\\];\".format(_id=thumbnail_id.get()), str(all_script_tags))\n",
    "\n",
    "        decoded_thumbnail = \"\".join([\n",
    "            bytes(bytes(img, \"ascii\").decode(\"unicode-escape\"), \"ascii\").decode(\"unicode-escape\") for img in thumbnails\n",
    "        ])\n",
    "\n",
    "        news_results.append(\n",
    "            {\n",
    "                \"title\": result.css(\".MBeuO::text\").get(),\n",
    "                \"link\": result.css(\"a.WlydOe::attr(href)\").get(),\n",
    "                \"source\": result.css(\".NUnG9d span::text\").get(),\n",
    "                \"snippet\": result.css(\".GI74Re::text\").get(),\n",
    "                \"date_published\": result.css(\".ZE0LJd span::text\").get(),\n",
    "                \"thumbnail\": None if decoded_thumbnail == \"\" else decoded_thumbnail\n",
    "            }\n",
    "        )\n",
    "\n",
    "    if selector.css(\".d6cvqb a[id=pnnext]\").get():\n",
    "        params[\"start\"] += 10\n",
    "    else:\n",
    "        break \n",
    "\n",
    "print(json.dumps(news_results, indent=2, ensure_ascii=False))"
   ]
  },
  {
   "cell_type": "code",
   "execution_count": null,
   "id": "46879404",
   "metadata": {},
   "outputs": [],
   "source": []
  }
 ],
 "metadata": {
  "kernelspec": {
   "display_name": "Python 3 (ipykernel)",
   "language": "python",
   "name": "python3"
  },
  "language_info": {
   "codemirror_mode": {
    "name": "ipython",
    "version": 3
   },
   "file_extension": ".py",
   "mimetype": "text/x-python",
   "name": "python",
   "nbconvert_exporter": "python",
   "pygments_lexer": "ipython3",
   "version": "3.9.12"
  }
 },
 "nbformat": 4,
 "nbformat_minor": 5
}
