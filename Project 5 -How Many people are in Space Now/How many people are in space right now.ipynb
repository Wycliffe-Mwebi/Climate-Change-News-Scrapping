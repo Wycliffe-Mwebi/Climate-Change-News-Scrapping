{
 "cells": [
  {
   "cell_type": "markdown",
   "id": "276784aa",
   "metadata": {},
   "source": [
    "# Making API Calls in Python\n",
    "### What is an API call?\n",
    "<b>Application programming interfaces (APIs)</b> are a way for one program to interact with another. API calls are the medium by which they interact. An API call, or API request, is a message sent to a server asking an API to provide a service or information.\n",
    "\n",
    "If Jan is hosting a lot of guests for dinner, she might call a catering company and ask that they prepare food for the party. This saves her a great deal of time and effort preparing food herself. Similarly, one application can \"call\" another for needed data or functionality. This ensures developers do not have to spend time and effort building application capabilities that can be integrated via API.\n",
    "\n",
    "Because APIs are integrated into almost all web applications today, API calls take place behind the scenes all the time. Suppose someone searches for bus tickets on a travel website. The travel website sends an API call to the various bus companies' servers and receives back information about what rides are available and how much they cost. From the user's perspective, this process should be almost instantaneous."
   ]
  },
  {
   "cell_type": "markdown",
   "id": "41aff045",
   "metadata": {},
   "source": [
    "## How Many People Are In Space Right Now\n",
    "In this project we shall answer this question using Nasa's <b>Open-notify</b> API, which gives access to data about the international space station. It’s a great API for learning because it has a very simple design, and doesn’t require authentication."
   ]
  },
  {
   "cell_type": "code",
   "execution_count": 12,
   "id": "7032694f",
   "metadata": {},
   "outputs": [],
   "source": [
    "#import libraries\n",
    "import json\n",
    "import requests"
   ]
  },
  {
   "cell_type": "markdown",
   "id": "e82c9f5e",
   "metadata": {},
   "source": [
    "The first endpoint we’ll use is http://api.open-notify.org/astros.json, which returns data about astronauts currently in space. We’ll start by making a GET request to the endpoint using the requests library:"
   ]
  },
  {
   "cell_type": "code",
   "execution_count": 11,
   "id": "503a07bb",
   "metadata": {},
   "outputs": [
    {
     "name": "stdout",
     "output_type": "stream",
     "text": [
      "200\n"
     ]
    }
   ],
   "source": [
    "response = requests.get(\"http://api.open-notify.org/astros.json\")\n",
    "print(response.status_code)"
   ]
  },
  {
   "cell_type": "markdown",
   "id": "655cd08f",
   "metadata": {},
   "source": [
    "We received a ‘200’ code which tells us our request was successful."
   ]
  },
  {
   "cell_type": "markdown",
   "id": "b37dfeca",
   "metadata": {},
   "source": [
    "Lets now try to get the response in JSON format. using the response.json() method to see the data we received back from the API: "
   ]
  },
  {
   "cell_type": "code",
   "execution_count": 13,
   "id": "5c9347ee",
   "metadata": {},
   "outputs": [
    {
     "name": "stdout",
     "output_type": "stream",
     "text": [
      "{'message': 'success', 'people': [{'name': 'Kjell Lindgren', 'craft': 'ISS'}, {'name': 'Bob Hines', 'craft': 'ISS'}, {'name': 'Samantha Cristoforetti', 'craft': 'ISS'}, {'name': 'Jessica Watkins', 'craft': 'ISS'}, {'name': 'Cai Xuzhe', 'craft': 'Tiangong'}, {'name': 'Chen Dong', 'craft': 'Tiangong'}, {'name': 'Liu Yang', 'craft': 'Tiangong'}, {'name': 'Sergey Prokopyev', 'craft': 'ISS'}, {'name': 'Dmitry Petelin', 'craft': 'ISS'}, {'name': 'Frank Rubio', 'craft': 'ISS'}], 'number': 10}\n"
     ]
    }
   ],
   "source": [
    "print(response.json())"
   ]
  },
  {
   "cell_type": "markdown",
   "id": "c27d183d",
   "metadata": {},
   "source": [
    "<b>JSON </b>is the primary format in which data is passed back and forth to APIs, and most API servers will send their responses in JSON format.\n",
    "\n",
    "<b>Python</b> has great JSON support with the json package. The json package is part of the standard library, so we don’t have to install anything to use it. We can both convert lists and dictionaries to JSON, and convert strings to lists and dictionaries. In the case of our ISS Pass data, it is a dictionary encoded to a string in JSON format.\n",
    "\n",
    "The json library has two main functions:\n",
    "\n",
    "- json.dumps() — Takes in a Python object, and converts (dumps) it to a string.\n",
    "- json.loads() — Takes a JSON string, and converts (loads) it to a Python object.\n",
    "\n",
    "<b>The dumps()</b> function is particularly useful as we can use it to print a formatted string which makes it easier to understand the JSON output."
   ]
  },
  {
   "cell_type": "code",
   "execution_count": 14,
   "id": "25db0416",
   "metadata": {},
   "outputs": [
    {
     "name": "stdout",
     "output_type": "stream",
     "text": [
      "{\n",
      "    \"message\": \"success\",\n",
      "    \"number\": 10,\n",
      "    \"people\": [\n",
      "        {\n",
      "            \"craft\": \"ISS\",\n",
      "            \"name\": \"Kjell Lindgren\"\n",
      "        },\n",
      "        {\n",
      "            \"craft\": \"ISS\",\n",
      "            \"name\": \"Bob Hines\"\n",
      "        },\n",
      "        {\n",
      "            \"craft\": \"ISS\",\n",
      "            \"name\": \"Samantha Cristoforetti\"\n",
      "        },\n",
      "        {\n",
      "            \"craft\": \"ISS\",\n",
      "            \"name\": \"Jessica Watkins\"\n",
      "        },\n",
      "        {\n",
      "            \"craft\": \"Tiangong\",\n",
      "            \"name\": \"Cai Xuzhe\"\n",
      "        },\n",
      "        {\n",
      "            \"craft\": \"Tiangong\",\n",
      "            \"name\": \"Chen Dong\"\n",
      "        },\n",
      "        {\n",
      "            \"craft\": \"Tiangong\",\n",
      "            \"name\": \"Liu Yang\"\n",
      "        },\n",
      "        {\n",
      "            \"craft\": \"ISS\",\n",
      "            \"name\": \"Sergey Prokopyev\"\n",
      "        },\n",
      "        {\n",
      "            \"craft\": \"ISS\",\n",
      "            \"name\": \"Dmitry Petelin\"\n",
      "        },\n",
      "        {\n",
      "            \"craft\": \"ISS\",\n",
      "            \"name\": \"Frank Rubio\"\n",
      "        }\n",
      "    ]\n",
      "}\n"
     ]
    }
   ],
   "source": [
    "def jprint(obj):\n",
    "    # create a formatted string of the Python JSON object\n",
    "    text = json.dumps(obj, sort_keys=True, indent=4)\n",
    "    print(text)\n",
    "\n",
    "jprint(response.json())"
   ]
  },
  {
   "cell_type": "markdown",
   "id": "ba7f0017",
   "metadata": {},
   "source": [
    "Immediately we can understand the structure of the data more easily – we can see that their are ten people currently in space, with their names existing as dictionaries inside a list."
   ]
  },
  {
   "cell_type": "code",
   "execution_count": null,
   "id": "6c6a6e99",
   "metadata": {},
   "outputs": [],
   "source": []
  }
 ],
 "metadata": {
  "kernelspec": {
   "display_name": "Python 3 (ipykernel)",
   "language": "python",
   "name": "python3"
  },
  "language_info": {
   "codemirror_mode": {
    "name": "ipython",
    "version": 3
   },
   "file_extension": ".py",
   "mimetype": "text/x-python",
   "name": "python",
   "nbconvert_exporter": "python",
   "pygments_lexer": "ipython3",
   "version": "3.9.12"
  }
 },
 "nbformat": 4,
 "nbformat_minor": 5
}
