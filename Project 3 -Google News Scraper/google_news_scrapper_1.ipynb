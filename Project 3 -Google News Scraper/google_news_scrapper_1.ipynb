{
 "cells": [
  {
   "cell_type": "markdown",
   "id": "0a48e8c7",
   "metadata": {},
   "source": [
    "# Google News Scrapper"
   ]
  },
  {
   "cell_type": "code",
   "execution_count": 40,
   "id": "bc6a58d9",
   "metadata": {},
   "outputs": [],
   "source": [
    "# Import necessary libraries\n",
    "from GoogleNews import GoogleNews\n",
    "import pandas as pd"
   ]
  },
  {
   "cell_type": "code",
   "execution_count": 41,
   "id": "111f6603",
   "metadata": {},
   "outputs": [],
   "source": [
    "# Define the keyword to search.\n",
    "keyword = 'Climate Change'"
   ]
  },
  {
   "cell_type": "code",
   "execution_count": 42,
   "id": "d707e23c",
   "metadata": {},
   "outputs": [],
   "source": [
    "# Perform news scraping from Google and extract the result into Pandas dataframe. \n",
    "googlenews = GoogleNews(lang='en', region='US', period='7d', encode='utf-8')\n",
    "googlenews.clear()\n",
    "googlenews.search(keyword)\n",
    "googlenews.get_page(2)\n",
    "news_result = googlenews.result(sort=True)\n",
    "news_data_df = pd.DataFrame.from_dict(news_result)"
   ]
  },
  {
   "cell_type": "code",
   "execution_count": 43,
   "id": "8a5fd62a",
   "metadata": {},
   "outputs": [
    {
     "name": "stdout",
     "output_type": "stream",
     "text": [
      "<class 'pandas.core.frame.DataFrame'>\n",
      "RangeIndex: 20 entries, 0 to 19\n",
      "Data columns (total 7 columns):\n",
      " #   Column    Non-Null Count  Dtype         \n",
      "---  ------    --------------  -----         \n",
      " 0   title     20 non-null     object        \n",
      " 1   media     20 non-null     object        \n",
      " 2   date      20 non-null     object        \n",
      " 3   datetime  20 non-null     datetime64[ns]\n",
      " 4   desc      20 non-null     object        \n",
      " 5   link      20 non-null     object        \n",
      " 6   img       20 non-null     object        \n",
      "dtypes: datetime64[ns](1), object(6)\n",
      "memory usage: 1.2+ KB\n"
     ]
    }
   ],
   "source": [
    "# Display information of dataframe.\n",
    "news_data_df.info()"
   ]
  },
  {
   "cell_type": "code",
   "execution_count": 44,
   "id": "9a1c6fff",
   "metadata": {},
   "outputs": [
    {
     "data": {
      "text/html": [
       "<div>\n",
       "<style scoped>\n",
       "    .dataframe tbody tr th:only-of-type {\n",
       "        vertical-align: middle;\n",
       "    }\n",
       "\n",
       "    .dataframe tbody tr th {\n",
       "        vertical-align: top;\n",
       "    }\n",
       "\n",
       "    .dataframe thead th {\n",
       "        text-align: right;\n",
       "    }\n",
       "</style>\n",
       "<table border=\"1\" class=\"dataframe\">\n",
       "  <thead>\n",
       "    <tr style=\"text-align: right;\">\n",
       "      <th></th>\n",
       "      <th>title</th>\n",
       "      <th>media</th>\n",
       "      <th>date</th>\n",
       "      <th>datetime</th>\n",
       "      <th>desc</th>\n",
       "      <th>link</th>\n",
       "      <th>img</th>\n",
       "    </tr>\n",
       "  </thead>\n",
       "  <tbody>\n",
       "    <tr>\n",
       "      <th>0</th>\n",
       "      <td>Climate change protesters in Nairobi demand co...</td>\n",
       "      <td>YouTube</td>\n",
       "      <td>0 hours ago</td>\n",
       "      <td>2022-09-26 01:39:47.844429</td>\n",
       "      <td>Hundreds of protesters concerned about climate...</td>\n",
       "      <td>https://www.youtube.com/watch?v=_Pe-HygWwzo</td>\n",
       "      <td>data:image/gif;base64,R0lGODlhAQABAIAAAP//////...</td>\n",
       "    </tr>\n",
       "    <tr>\n",
       "      <th>1</th>\n",
       "      <td>Robert Byron: Climate Conversations: Your heal...</td>\n",
       "      <td>The Billings Gazette</td>\n",
       "      <td>0 hours ago</td>\n",
       "      <td>2022-09-26 01:39:47.844429</td>\n",
       "      <td>Devastating wildfires, unprecedented floods, p...</td>\n",
       "      <td>http://billingsgazette.com/opinion/columnists/...</td>\n",
       "      <td>data:image/gif;base64,R0lGODlhAQABAIAAAP//////...</td>\n",
       "    </tr>\n",
       "    <tr>\n",
       "      <th>2</th>\n",
       "      <td>Olympia council member says no time to waste i...</td>\n",
       "      <td>The Olympian</td>\n",
       "      <td>0 hours ago</td>\n",
       "      <td>2022-09-26 01:39:47.844429</td>\n",
       "      <td>The city of Olympia has made it clear that cli...</td>\n",
       "      <td>https://www.theolympian.com/news/local/article...</td>\n",
       "      <td>data:image/gif;base64,R0lGODlhAQABAIAAAP//////...</td>\n",
       "    </tr>\n",
       "    <tr>\n",
       "      <th>3</th>\n",
       "      <td>Newsletter: Climate Change Leads to New Rules</td>\n",
       "      <td>High North News</td>\n",
       "      <td>0 hours ago</td>\n",
       "      <td>2022-09-26 01:39:47.844429</td>\n",
       "      <td>It is windy in the Arctic, in more ways than o...</td>\n",
       "      <td>https://www.highnorthnews.com/en/climate-chang...</td>\n",
       "      <td>data:image/gif;base64,R0lGODlhAQABAIAAAP//////...</td>\n",
       "    </tr>\n",
       "    <tr>\n",
       "      <th>4</th>\n",
       "      <td>Why Wisconsin has seen so little legislative a...</td>\n",
       "      <td>Connecticut Public</td>\n",
       "      <td>1 hour ago</td>\n",
       "      <td>2022-09-26 00:39:45.638219</td>\n",
       "      <td>Polls show that more than 70% of Wisconsinites...</td>\n",
       "      <td>https://www.ctpublic.org/2022-09-25/why-wiscon...</td>\n",
       "      <td>data:image/gif;base64,R0lGODlhAQABAIAAAP//////...</td>\n",
       "    </tr>\n",
       "  </tbody>\n",
       "</table>\n",
       "</div>"
      ],
      "text/plain": [
       "                                               title                 media  \\\n",
       "0  Climate change protesters in Nairobi demand co...               YouTube   \n",
       "1  Robert Byron: Climate Conversations: Your heal...  The Billings Gazette   \n",
       "2  Olympia council member says no time to waste i...          The Olympian   \n",
       "3      Newsletter: Climate Change Leads to New Rules       High North News   \n",
       "4  Why Wisconsin has seen so little legislative a...    Connecticut Public   \n",
       "\n",
       "          date                   datetime  \\\n",
       "0  0 hours ago 2022-09-26 01:39:47.844429   \n",
       "1  0 hours ago 2022-09-26 01:39:47.844429   \n",
       "2  0 hours ago 2022-09-26 01:39:47.844429   \n",
       "3  0 hours ago 2022-09-26 01:39:47.844429   \n",
       "4   1 hour ago 2022-09-26 00:39:45.638219   \n",
       "\n",
       "                                                desc  \\\n",
       "0  Hundreds of protesters concerned about climate...   \n",
       "1  Devastating wildfires, unprecedented floods, p...   \n",
       "2  The city of Olympia has made it clear that cli...   \n",
       "3  It is windy in the Arctic, in more ways than o...   \n",
       "4  Polls show that more than 70% of Wisconsinites...   \n",
       "\n",
       "                                                link  \\\n",
       "0        https://www.youtube.com/watch?v=_Pe-HygWwzo   \n",
       "1  http://billingsgazette.com/opinion/columnists/...   \n",
       "2  https://www.theolympian.com/news/local/article...   \n",
       "3  https://www.highnorthnews.com/en/climate-chang...   \n",
       "4  https://www.ctpublic.org/2022-09-25/why-wiscon...   \n",
       "\n",
       "                                                 img  \n",
       "0  data:image/gif;base64,R0lGODlhAQABAIAAAP//////...  \n",
       "1  data:image/gif;base64,R0lGODlhAQABAIAAAP//////...  \n",
       "2  data:image/gif;base64,R0lGODlhAQABAIAAAP//////...  \n",
       "3  data:image/gif;base64,R0lGODlhAQABAIAAAP//////...  \n",
       "4  data:image/gif;base64,R0lGODlhAQABAIAAAP//////...  "
      ]
     },
     "execution_count": 44,
     "metadata": {},
     "output_type": "execute_result"
    }
   ],
   "source": [
    "# Display header of dataframe.\n",
    "news_data_df.head()"
   ]
  },
  {
   "cell_type": "code",
   "execution_count": null,
   "id": "2274ff97",
   "metadata": {},
   "outputs": [],
   "source": []
  }
 ],
 "metadata": {
  "kernelspec": {
   "display_name": "Python 3 (ipykernel)",
   "language": "python",
   "name": "python3"
  },
  "language_info": {
   "codemirror_mode": {
    "name": "ipython",
    "version": 3
   },
   "file_extension": ".py",
   "mimetype": "text/x-python",
   "name": "python",
   "nbconvert_exporter": "python",
   "pygments_lexer": "ipython3",
   "version": "3.9.12"
  }
 },
 "nbformat": 4,
 "nbformat_minor": 5
}
